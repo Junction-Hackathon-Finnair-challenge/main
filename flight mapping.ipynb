{
 "cells": [
  {
   "cell_type": "code",
   "execution_count": 107,
   "metadata": {},
   "outputs": [],
   "source": [
    "import pandas as pd\n",
    "import json"
   ]
  },
  {
   "cell_type": "code",
   "execution_count": 165,
   "metadata": {},
   "outputs": [],
   "source": [
    "total_id = 0\n",
    "class Mention:\n",
    "    datetime_happened = None\n",
    "    datetime_reported = None\n",
    "    longitude = None\n",
    "    lattitude = None\n",
    "    type = None\n",
    "    # Please use standard system: SVO, SCO, TSE\n",
    "    airport_id = None\n",
    "    city_name = None\n",
    "    country_name = None\n",
    "    raw_description = None\n",
    "\n",
    "    \n",
    "    def __init__(self, type, airport_id, datetime_reported, \n",
    "                 datetime_happened=None, lattitude=None, longitude=None, \n",
    "                 city_name=None, country_name=None, raw_description=None):\n",
    "        \n",
    "        self.datetime_happened = datetime_happened\n",
    "        self.datetime_reported = datetime_reported\n",
    "        self.longitude = longitude\n",
    "        self.lattitude = lattitude\n",
    "        self.type = type\n",
    "        self.airport_id = airport_id\n",
    "        self.city_name = city_name\n",
    "        self.country_name = country_name\n",
    "        self.raw_description = None\n",
    "        \n",
    "        \n",
    "class Event(Mention):\n",
    "    mentions = []\n",
    "    flights_affected = []\n",
    "    duration = 0\n",
    "    id = None\n",
    "#     def __init__(self, m:Mention):\n",
    "#         flights_affected = []\n",
    "#         super().__init__(m.type, m.airport_id, m.datetime_reported, \n",
    "#                          m.datetime_happened, m.lattitude, m.longitude, \n",
    "#                          m.city_name, m.country_name, None)\n",
    "        \n",
    "#         self.mentions.append(m)\n",
    "\n",
    "    def __init__(self, type, airport_id, datetime_reported, \n",
    "                 datetime_happened=None, lattitude=None, longitude=None, \n",
    "                 city_name=None, country_name=None, duration=None, raw_description=None):\n",
    "        \n",
    "        super().__init__(type, airport_id, datetime_reported, \n",
    "                         datetime_happened, lattitude, longitude, \n",
    "                         city_name, country_name, raw_description)\n",
    "        \n",
    "        self.flights_affected = []\n",
    "        self.duration = duration\n",
    "        \n",
    "        global total_id\n",
    "        self.id = total_id\n",
    "        total_id += 1\n",
    "        \n",
    "        \n",
    "    def __eq__(self, other):\n",
    "        \n",
    "        if self.duration != self.duration:\n",
    "            return False\n",
    "        \n",
    "        if self.duration == None:\n",
    "            return (self.airport_id == other.airport_id \n",
    "                and self.datetime_happened == other.datetime_happened\n",
    "                and self.type == self.type)\n",
    "        else:\n",
    "            return (self.airport_id == other.airport_id \n",
    "                and abs(self.datetime_happened.value - other.datetime_happened.value) < self.duration.value\n",
    "                and self.type == self.type)\n",
    "        \n",
    "    \n",
    "    def get_confidence():\n",
    "        pass"
   ]
  },
  {
   "cell_type": "code",
   "execution_count": 186,
   "metadata": {},
   "outputs": [],
   "source": [
    "flights = pd.read_csv('Flights_schedule.csv', index_col = 'Id')\n",
    "flights['Departure datatime'] = pd.to_datetime(flights['Departure datatime'])\n",
    "flights['Arrival datatime'] = pd.to_datetime(flights['Arrival datatime'])\n",
    "# t = set((flights['Arrival port'].values, flights['Departure port'].values))\n",
    "# len(t)\n",
    "\n",
    "f = flights.loc[0]"
   ]
  },
  {
   "cell_type": "code",
   "execution_count": 75,
   "metadata": {},
   "outputs": [],
   "source": [
    "# flights[flights['Arrival datatime'] - Timestamp.today() < Timedelta('3 days')][flights['Arrival datatime'] - Timestamp.today() > Timedelta('3:00:00')]"
   ]
  },
  {
   "cell_type": "code",
   "execution_count": 110,
   "metadata": {
    "collapsed": true
   },
   "outputs": [],
   "source": [
    "from pandas._libs.tslib import Timestamp, Timedelta\n",
    "import pickle\n",
    "import numpy as np\n",
    "e = Event(datetime_happened = Timestamp.today(),\n",
    "                  datetime_reported = Timestamp.strptime('28/11/2017', '%d/%m/%Y'), \n",
    "                  airport_id = 'PEK', type = 'strike', \n",
    "                  city_name = 'Helsinki', country_name = 'Finland')"
   ]
  },
  {
   "cell_type": "code",
   "execution_count": 112,
   "metadata": {},
   "outputs": [
    {
     "data": {
      "text/plain": [
       "int"
      ]
     },
     "execution_count": 112,
     "metadata": {},
     "output_type": "execute_result"
    }
   ],
   "source": [
    "t = Timestamp(1234567890)\n",
    "type(t.value)"
   ]
  },
  {
   "cell_type": "code",
   "execution_count": null,
   "metadata": {},
   "outputs": [],
   "source": [
    "import pyowm\n",
    "owm = pyowm.OWM('fd7f55cd600a4e84dc1cb6797915f3ee')\n",
    "airport_db = pd.read_csv(\"airports.csv\")\n",
    "def air2coords(name):\n",
    "    lat = airport_db[airport_db['iata'] == name].latitude.values[0]\n",
    "    long = airport_db[airport_db['iata'] == name].longitude.values[0]\n",
    "    return float(lat), float(long)\n",
    "\n",
    "type(air2coords('HEL')[0])"
   ]
  },
  {
   "cell_type": "code",
   "execution_count": 5,
   "metadata": {},
   "outputs": [
    {
     "name": "stderr",
     "output_type": "stream",
     "text": [
      "/usr/local/lib/python3.5/dist-packages/ipykernel_launcher.py:2: UserWarning: Boolean Series key will be reindexed to match DataFrame index.\n",
      "  \n"
     ]
    },
    {
     "data": {
      "text/plain": [
       "array(['SVO', 'VKO', 'DME', 'BKA', '\\\\N', '\\\\N'], dtype=object)"
      ]
     },
     "execution_count": 5,
     "metadata": {},
     "output_type": "execute_result"
    }
   ],
   "source": [
    "def place2air(city, country):\n",
    "    return airport_db[airport_db['city'] == city][airport_db['country'] == country]['iata'].values\n",
    "\n",
    "place2air('Moscow', 'Russia')"
   ]
  },
  {
   "cell_type": "code",
   "execution_count": 166,
   "metadata": {},
   "outputs": [],
   "source": [
    "class FlightControlSystem():\n",
    "    schedule = None\n",
    "    event_list = []\n",
    "    port_list = []\n",
    "    forecasts = {}\n",
    "    \n",
    "    def __init__(self, sourse='Flights_schedule.csv'):\n",
    "        self.event_list = []\n",
    "        temp = pd.read_csv('Flights_schedule.csv')\n",
    "        temp['Departure datatime'] = pd.to_datetime(temp['Departure datatime'])\n",
    "        temp['Arrival datatime'] = pd.to_datetime(temp['Arrival datatime'])\n",
    "        \n",
    "        self.port_list = set(temp['Departure port'].values)\n",
    "        self.port_list.update(set(temp['Arrival port'].values))\n",
    "        \n",
    "        self.schedule = self.actualizer(temp)\n",
    "        \n",
    "    def actualizer(self, sch, after_date = None):\n",
    "        if after_date is None:\n",
    "            after_date = Timestamp.today()\n",
    "            \n",
    "        return sch[sch['Arrival datatime'] > after_date]\n",
    "    \n",
    "    def add_event(self, event):\n",
    "        if self.check_similars(event):\n",
    "            return []\n",
    "        \n",
    "        time_area = '1 days' if event.duration == None else event.duration\n",
    "        \n",
    "        if event.airport_id == None:\n",
    "            if event.city_name == None or event.country_name == None:\n",
    "                print('Incorrect event. Make it ok and try again')\n",
    "                return []\n",
    "            \n",
    "            air_ids = place2air(event.city_name, event.country_name)\n",
    "        else:\n",
    "            air_ids = [event.airport_id]\n",
    "            \n",
    "        \n",
    "        ids = []\n",
    "        print(len(air_ids))\n",
    "        print(air_ids)\n",
    "        for air_id in air_ids:\n",
    "            if air_id not in self.port_list:\n",
    "                print('mimo')\n",
    "                continue\n",
    "                \n",
    "            by_port_arriv = self.schedule[self.schedule['Arrival port'] == air_id].index\n",
    "            by_port_dept = self.schedule[self.schedule['Departure port'] == air_id].index\n",
    "\n",
    "            by_date_dept = self.schedule[self.schedule['Departure datatime'] - event.datetime_happened < time_area][event.datetime_happened  - self.schedule['Departure datatime']< time_area].index\n",
    "            by_date_arriv = self.schedule[self.schedule['Arrival datatime'] - event.datetime_happened < time_area][event.datetime_happened  - self.schedule['Departure datatime']< time_area].index\n",
    "\n",
    "            ids = np.concatenate((np.intersect1d(by_port_arriv, by_date_arriv),np.intersect1d(by_port_dept, by_date_dept)))\n",
    "\n",
    "#             print('by port {}'.format(len(by_port_arriv) + len(by_port_dept)))\n",
    "#             print('by date {}'.format(len(by_date_arriv) + len(by_date_dept)))\n",
    "#             print(ids)\n",
    "\n",
    "            event.flights_affected += ids.tolist()\n",
    "        self.event_list.append(event)\n",
    "        \n",
    "        return ids\n",
    "    \n",
    "    def check_similars(self, event):\n",
    "        if event in self.event_list:\n",
    "            pass\n",
    "            #do somethind..................\n",
    "        else:\n",
    "            return False\n",
    "        \n",
    "    \n",
    "    def events_by_fid(self, fid):\n",
    "        return [e for e in self.event_list if fid in e.flights_affected]\n",
    "    \n",
    "    def flights_by_event(self, ids):\n",
    "        l = [e.flights_affected for e in self.event_list is e.id in ids]\n",
    "        return sum(l, [])\n",
    "    \n",
    "    def create_event(self,port, time, type, value):\n",
    "        e = Event(airport_id=port, \n",
    "                          type='snow', \n",
    "                          datetime_reported=Timestamp.today(), \n",
    "                          datetime_happened=time, \n",
    "                          raw_description=value, duration = Timedelta('3:00:00'))\n",
    "        self.add_event(e)\n",
    "        return e\n",
    "        \n",
    "    \n",
    "    def data_request(self):\n",
    "        for i, port in enumerate(self.port_list):\n",
    "            if i % 50 == 9:\n",
    "                time.sleep(60)\n",
    "               \n",
    "            coords = air2coords(port)\n",
    "            self.forecasts[port] = owm.three_hours_forecast_at_coords(*coords)\n",
    "            \n",
    "        \n",
    "    def weather_update(self):\n",
    "        three_day_flights = self.schedule[self.schedule['Arrival datatime'] - Timestamp.today() < Timedelta('3 days')]\n",
    "        three_day_flights = three_day_flights[three_day_flights['Departure datatime'] - Timestamp.today() > Timedelta('3:00:00')].index\n",
    "        for i in three_day_flights:\n",
    "#             print('%2d from %d, event_list: %d' %(i, len(three_day_flights), len(self.event_list)), end='\\r')\n",
    "            flight = self.schedule.loc[i]\n",
    "            \n",
    "            for stuff in ['Departure ', 'Arrival ']:\n",
    "\n",
    "                forecast = self.forecasts[flight[stuff + 'port']]\n",
    "                weather = forecast.get_weather_at(flight[stuff + 'datatime'])\n",
    "\n",
    "                snow = weather.get_snow().get('3h', 0)\n",
    "                if snow > 3: # Attention! Magic numbers!\n",
    "                    e = self.create_event(flight[stuff + 'port'], flight[stuff + 'datatime'], 'snow', snow)\n",
    "                    print('new snow event ',snow, ' ', len(e.flights_affected), ' ', e.datetime_happened)\n",
    "\n",
    "                wind = weather.get_wind().get('speed', 0)\n",
    "                if wind > 7: # Attention! Magic numbers!\n",
    "                    e = self.create_event(flight[stuff + 'port'], flight[stuff + 'datatime'], 'strong wind', wind)\n",
    "                    print('new wind event ',wind, ' ', len(e.flights_affected), ' ', e.datetime_happened)\n",
    "\n",
    "                # to be continued .......\n",
    "\n",
    "\n",
    "            \n",
    "                \n",
    "    def dump(self):\n",
    "        with shelve.open('data/events.idx', writeback=True) as db:\n",
    "            db['last_event_id'] = None\n",
    "            db['event_list'] = self.event_list\n",
    "            db['schedule'] = self.schedule\n",
    "            db['port_list'] = self.port_list\n",
    "            db['forecast'] = self.forecasts\n",
    "        \n",
    "    "
   ]
  },
  {
   "cell_type": "code",
   "execution_count": 167,
   "metadata": {},
   "outputs": [
    {
     "data": {
      "text/plain": [
       "1511686123016004000"
      ]
     },
     "execution_count": 167,
     "metadata": {},
     "output_type": "execute_result"
    }
   ],
   "source": [
    "e = Event(datetime_happened = Timestamp.today(),\n",
    "                  datetime_reported = Timestamp.strptime('28/11/2017', '%d/%m/%Y'), \n",
    "                  airport_id = 'PEK', type = 'strike', \n",
    "                  city_name = 'Moscow', country_name = 'Russia')\n",
    "\n",
    "\n",
    "e.datetime_happened.value"
   ]
  },
  {
   "cell_type": "code",
   "execution_count": 168,
   "metadata": {},
   "outputs": [
    {
     "name": "stdout",
     "output_type": "stream",
     "text": [
      "1\n",
      "['PEK']\n"
     ]
    },
    {
     "name": "stderr",
     "output_type": "stream",
     "text": [
      "/usr/local/lib/python3.5/dist-packages/ipykernel_launcher.py:51: UserWarning: Boolean Series key will be reindexed to match DataFrame index.\n",
      "/usr/local/lib/python3.5/dist-packages/ipykernel_launcher.py:52: UserWarning: Boolean Series key will be reindexed to match DataFrame index.\n"
     ]
    },
    {
     "data": {
      "text/plain": [
       "172"
      ]
     },
     "execution_count": 168,
     "metadata": {},
     "output_type": "execute_result"
    }
   ],
   "source": [
    "fcs = FlightControlSystem()\n",
    "fcs.forecasts = pickle.load( open('forecasts.p', 'rb'))\n",
    "iss = fcs.add_event(e)\n",
    "len(fcs.port_list)"
   ]
  },
  {
   "cell_type": "code",
   "execution_count": 169,
   "metadata": {
    "collapsed": true
   },
   "outputs": [],
   "source": [
    "# import pickle\n",
    "# pickle.dump(fcs.forecasts, open('forecasts.p', 'wb'))"
   ]
  },
  {
   "cell_type": "code",
   "execution_count": 170,
   "metadata": {
    "collapsed": true
   },
   "outputs": [],
   "source": [
    "%%capture\n",
    "fcs.weather_update()"
   ]
  },
  {
   "cell_type": "code",
   "execution_count": 171,
   "metadata": {},
   "outputs": [
    {
     "data": {
      "text/plain": [
       "48"
      ]
     },
     "execution_count": 171,
     "metadata": {},
     "output_type": "execute_result"
    }
   ],
   "source": [
    "len(fcs.event_list)"
   ]
  },
  {
   "cell_type": "code",
   "execution_count": 172,
   "metadata": {},
   "outputs": [],
   "source": [
    "fcs.dump()"
   ]
  },
  {
   "cell_type": "code",
   "execution_count": 201,
   "metadata": {},
   "outputs": [],
   "source": [
    "class Encoder(JSONEncoder):\n",
    "        def default(self, o):\n",
    "            if isinstance(o, list):\n",
    "                return o\n",
    "            elif isinstance(o, Event):\n",
    "                json = o.__dict__.copy()\n",
    "                json['datetime_happened'] = o.datetime_happened.value\n",
    "                json['datetime_reported'] = o.datetime_reported.value\n",
    "                return json\n",
    "            else:\n",
    "                return o.__dict__ \n",
    "            \n",
    "            \n",
    "            \n",
    "def flight2json(flight, fid):\n",
    "    json = flight.to_dict().copy\n",
    "    print(json)\n",
    "#     json['Departure datatime'] = flight['Departure datatime'].value\n",
    "#     json['Arrival datatime'] = flight['Arrival datatime'].value\n",
    "#     json['Id'] = fid\n",
    "    \n",
    "    return json"
   ]
  },
  {
   "cell_type": "code",
   "execution_count": 202,
   "metadata": {
    "collapsed": true
   },
   "outputs": [],
   "source": [
    "import shelve, json\n",
    "def get_all_events():\n",
    "    with shelve.open('data/events.idx') as db:\n",
    "        event_list = db['event_list']\n",
    "        return Encoder().encode(fcs.event_list)\n",
    "    \n",
    "    \n",
    "def get_flights_by_events(ids):\n",
    "    with shelve.open('data/events.idx') as db:\n",
    "        event_list = db['event_list']\n",
    "        schedule = db['schedule']\n",
    "        \n",
    "        flight_ids = []\n",
    "        for event in event_list:\n",
    "            if event.id in ids:\n",
    "                flight_ids += event.flights_affected\n",
    "                \n",
    "        flight_ids = list(set(flights))\n",
    "        \n",
    "        json = [flight2json(schedule.loc[i], i) for i in flight_ids]\n",
    "        return json\n",
    "        \n",
    "        \n",
    "        \n",
    "        \n",
    "        "
   ]
  },
  {
   "cell_type": "code",
   "execution_count": 203,
   "metadata": {},
   "outputs": [
    {
     "ename": "KeyError",
     "evalue": "'the label [Departure datatime] is not in the [index]'",
     "output_type": "error",
     "traceback": [
      "\u001b[0;31m---------------------------------------------------------------------------\u001b[0m",
      "\u001b[0;31mKeyError\u001b[0m                                  Traceback (most recent call last)",
      "\u001b[0;32m/usr/local/lib/python3.5/dist-packages/pandas/core/indexing.py\u001b[0m in \u001b[0;36m_has_valid_type\u001b[0;34m(self, key, axis)\u001b[0m\n\u001b[1;32m   1433\u001b[0m                 \u001b[0;32mif\u001b[0m \u001b[0;32mnot\u001b[0m \u001b[0max\u001b[0m\u001b[0;34m.\u001b[0m\u001b[0mcontains\u001b[0m\u001b[0;34m(\u001b[0m\u001b[0mkey\u001b[0m\u001b[0;34m)\u001b[0m\u001b[0;34m:\u001b[0m\u001b[0;34m\u001b[0m\u001b[0m\n\u001b[0;32m-> 1434\u001b[0;31m                     \u001b[0merror\u001b[0m\u001b[0;34m(\u001b[0m\u001b[0;34m)\u001b[0m\u001b[0;34m\u001b[0m\u001b[0m\n\u001b[0m\u001b[1;32m   1435\u001b[0m             \u001b[0;32mexcept\u001b[0m \u001b[0mTypeError\u001b[0m \u001b[0;32mas\u001b[0m \u001b[0me\u001b[0m\u001b[0;34m:\u001b[0m\u001b[0;34m\u001b[0m\u001b[0m\n",
      "\u001b[0;32m/usr/local/lib/python3.5/dist-packages/pandas/core/indexing.py\u001b[0m in \u001b[0;36merror\u001b[0;34m()\u001b[0m\n\u001b[1;32m   1428\u001b[0m                 raise KeyError(\"the label [%s] is not in the [%s]\" %\n\u001b[0;32m-> 1429\u001b[0;31m                                (key, self.obj._get_axis_name(axis)))\n\u001b[0m\u001b[1;32m   1430\u001b[0m \u001b[0;34m\u001b[0m\u001b[0m\n",
      "\u001b[0;31mKeyError\u001b[0m: 'the label [Departure datatime] is not in the [index]'",
      "\nDuring handling of the above exception, another exception occurred:\n",
      "\u001b[0;31mKeyError\u001b[0m                                  Traceback (most recent call last)",
      "\u001b[0;32m<ipython-input-203-f5dbb38f258a>\u001b[0m in \u001b[0;36m<module>\u001b[0;34m()\u001b[0m\n\u001b[0;32m----> 1\u001b[0;31m \u001b[0mget_flights_by_events\u001b[0m\u001b[0;34m(\u001b[0m\u001b[0;34m[\u001b[0m\u001b[0;36m0\u001b[0m\u001b[0;34m,\u001b[0m \u001b[0;36m1\u001b[0m\u001b[0;34m]\u001b[0m\u001b[0;34m)\u001b[0m\u001b[0;34m\u001b[0m\u001b[0m\n\u001b[0m",
      "\u001b[0;32m<ipython-input-202-71a98338fe3f>\u001b[0m in \u001b[0;36mget_flights_by_events\u001b[0;34m(ids)\u001b[0m\n\u001b[1;32m     18\u001b[0m         \u001b[0mflight_ids\u001b[0m \u001b[0;34m=\u001b[0m \u001b[0mlist\u001b[0m\u001b[0;34m(\u001b[0m\u001b[0mset\u001b[0m\u001b[0;34m(\u001b[0m\u001b[0mflights\u001b[0m\u001b[0;34m)\u001b[0m\u001b[0;34m)\u001b[0m\u001b[0;34m\u001b[0m\u001b[0m\n\u001b[1;32m     19\u001b[0m \u001b[0;34m\u001b[0m\u001b[0m\n\u001b[0;32m---> 20\u001b[0;31m         \u001b[0mjson\u001b[0m \u001b[0;34m=\u001b[0m \u001b[0;34m[\u001b[0m\u001b[0mflight2json\u001b[0m\u001b[0;34m(\u001b[0m\u001b[0mschedule\u001b[0m\u001b[0;34m.\u001b[0m\u001b[0mloc\u001b[0m\u001b[0;34m[\u001b[0m\u001b[0mi\u001b[0m\u001b[0;34m]\u001b[0m\u001b[0;34m,\u001b[0m \u001b[0mi\u001b[0m\u001b[0;34m)\u001b[0m \u001b[0;32mfor\u001b[0m \u001b[0mi\u001b[0m \u001b[0;32min\u001b[0m \u001b[0mflight_ids\u001b[0m\u001b[0;34m]\u001b[0m\u001b[0;34m\u001b[0m\u001b[0m\n\u001b[0m\u001b[1;32m     21\u001b[0m         \u001b[0;32mreturn\u001b[0m \u001b[0mjson\u001b[0m\u001b[0;34m\u001b[0m\u001b[0m\n\u001b[1;32m     22\u001b[0m \u001b[0;34m\u001b[0m\u001b[0m\n",
      "\u001b[0;32m<ipython-input-202-71a98338fe3f>\u001b[0m in \u001b[0;36m<listcomp>\u001b[0;34m(.0)\u001b[0m\n\u001b[1;32m     18\u001b[0m         \u001b[0mflight_ids\u001b[0m \u001b[0;34m=\u001b[0m \u001b[0mlist\u001b[0m\u001b[0;34m(\u001b[0m\u001b[0mset\u001b[0m\u001b[0;34m(\u001b[0m\u001b[0mflights\u001b[0m\u001b[0;34m)\u001b[0m\u001b[0;34m)\u001b[0m\u001b[0;34m\u001b[0m\u001b[0m\n\u001b[1;32m     19\u001b[0m \u001b[0;34m\u001b[0m\u001b[0m\n\u001b[0;32m---> 20\u001b[0;31m         \u001b[0mjson\u001b[0m \u001b[0;34m=\u001b[0m \u001b[0;34m[\u001b[0m\u001b[0mflight2json\u001b[0m\u001b[0;34m(\u001b[0m\u001b[0mschedule\u001b[0m\u001b[0;34m.\u001b[0m\u001b[0mloc\u001b[0m\u001b[0;34m[\u001b[0m\u001b[0mi\u001b[0m\u001b[0;34m]\u001b[0m\u001b[0;34m,\u001b[0m \u001b[0mi\u001b[0m\u001b[0;34m)\u001b[0m \u001b[0;32mfor\u001b[0m \u001b[0mi\u001b[0m \u001b[0;32min\u001b[0m \u001b[0mflight_ids\u001b[0m\u001b[0;34m]\u001b[0m\u001b[0;34m\u001b[0m\u001b[0m\n\u001b[0m\u001b[1;32m     21\u001b[0m         \u001b[0;32mreturn\u001b[0m \u001b[0mjson\u001b[0m\u001b[0;34m\u001b[0m\u001b[0m\n\u001b[1;32m     22\u001b[0m \u001b[0;34m\u001b[0m\u001b[0m\n",
      "\u001b[0;32m/usr/local/lib/python3.5/dist-packages/pandas/core/indexing.py\u001b[0m in \u001b[0;36m__getitem__\u001b[0;34m(self, key)\u001b[0m\n\u001b[1;32m   1326\u001b[0m         \u001b[0;32melse\u001b[0m\u001b[0;34m:\u001b[0m\u001b[0;34m\u001b[0m\u001b[0m\n\u001b[1;32m   1327\u001b[0m             \u001b[0mkey\u001b[0m \u001b[0;34m=\u001b[0m \u001b[0mcom\u001b[0m\u001b[0;34m.\u001b[0m\u001b[0m_apply_if_callable\u001b[0m\u001b[0;34m(\u001b[0m\u001b[0mkey\u001b[0m\u001b[0;34m,\u001b[0m \u001b[0mself\u001b[0m\u001b[0;34m.\u001b[0m\u001b[0mobj\u001b[0m\u001b[0;34m)\u001b[0m\u001b[0;34m\u001b[0m\u001b[0m\n\u001b[0;32m-> 1328\u001b[0;31m             \u001b[0;32mreturn\u001b[0m \u001b[0mself\u001b[0m\u001b[0;34m.\u001b[0m\u001b[0m_getitem_axis\u001b[0m\u001b[0;34m(\u001b[0m\u001b[0mkey\u001b[0m\u001b[0;34m,\u001b[0m \u001b[0maxis\u001b[0m\u001b[0;34m=\u001b[0m\u001b[0;36m0\u001b[0m\u001b[0;34m)\u001b[0m\u001b[0;34m\u001b[0m\u001b[0m\n\u001b[0m\u001b[1;32m   1329\u001b[0m \u001b[0;34m\u001b[0m\u001b[0m\n\u001b[1;32m   1330\u001b[0m     \u001b[0;32mdef\u001b[0m \u001b[0m_is_scalar_access\u001b[0m\u001b[0;34m(\u001b[0m\u001b[0mself\u001b[0m\u001b[0;34m,\u001b[0m \u001b[0mkey\u001b[0m\u001b[0;34m)\u001b[0m\u001b[0;34m:\u001b[0m\u001b[0;34m\u001b[0m\u001b[0m\n",
      "\u001b[0;32m/usr/local/lib/python3.5/dist-packages/pandas/core/indexing.py\u001b[0m in \u001b[0;36m_getitem_axis\u001b[0;34m(self, key, axis)\u001b[0m\n\u001b[1;32m   1549\u001b[0m \u001b[0;34m\u001b[0m\u001b[0m\n\u001b[1;32m   1550\u001b[0m         \u001b[0;31m# fall thru to straight lookup\u001b[0m\u001b[0;34m\u001b[0m\u001b[0;34m\u001b[0m\u001b[0m\n\u001b[0;32m-> 1551\u001b[0;31m         \u001b[0mself\u001b[0m\u001b[0;34m.\u001b[0m\u001b[0m_has_valid_type\u001b[0m\u001b[0;34m(\u001b[0m\u001b[0mkey\u001b[0m\u001b[0;34m,\u001b[0m \u001b[0maxis\u001b[0m\u001b[0;34m)\u001b[0m\u001b[0;34m\u001b[0m\u001b[0m\n\u001b[0m\u001b[1;32m   1552\u001b[0m         \u001b[0;32mreturn\u001b[0m \u001b[0mself\u001b[0m\u001b[0;34m.\u001b[0m\u001b[0m_get_label\u001b[0m\u001b[0;34m(\u001b[0m\u001b[0mkey\u001b[0m\u001b[0;34m,\u001b[0m \u001b[0maxis\u001b[0m\u001b[0;34m=\u001b[0m\u001b[0maxis\u001b[0m\u001b[0;34m)\u001b[0m\u001b[0;34m\u001b[0m\u001b[0m\n\u001b[1;32m   1553\u001b[0m \u001b[0;34m\u001b[0m\u001b[0m\n",
      "\u001b[0;32m/usr/local/lib/python3.5/dist-packages/pandas/core/indexing.py\u001b[0m in \u001b[0;36m_has_valid_type\u001b[0;34m(self, key, axis)\u001b[0m\n\u001b[1;32m   1440\u001b[0m                 \u001b[0;32mraise\u001b[0m\u001b[0;34m\u001b[0m\u001b[0m\n\u001b[1;32m   1441\u001b[0m             \u001b[0;32mexcept\u001b[0m\u001b[0;34m:\u001b[0m\u001b[0;34m\u001b[0m\u001b[0m\n\u001b[0;32m-> 1442\u001b[0;31m                 \u001b[0merror\u001b[0m\u001b[0;34m(\u001b[0m\u001b[0;34m)\u001b[0m\u001b[0;34m\u001b[0m\u001b[0m\n\u001b[0m\u001b[1;32m   1443\u001b[0m \u001b[0;34m\u001b[0m\u001b[0m\n\u001b[1;32m   1444\u001b[0m         \u001b[0;32mreturn\u001b[0m \u001b[0;32mTrue\u001b[0m\u001b[0;34m\u001b[0m\u001b[0m\n",
      "\u001b[0;32m/usr/local/lib/python3.5/dist-packages/pandas/core/indexing.py\u001b[0m in \u001b[0;36merror\u001b[0;34m()\u001b[0m\n\u001b[1;32m   1427\u001b[0m                                     \"key\")\n\u001b[1;32m   1428\u001b[0m                 raise KeyError(\"the label [%s] is not in the [%s]\" %\n\u001b[0;32m-> 1429\u001b[0;31m                                (key, self.obj._get_axis_name(axis)))\n\u001b[0m\u001b[1;32m   1430\u001b[0m \u001b[0;34m\u001b[0m\u001b[0m\n\u001b[1;32m   1431\u001b[0m             \u001b[0;32mtry\u001b[0m\u001b[0;34m:\u001b[0m\u001b[0;34m\u001b[0m\u001b[0m\n",
      "\u001b[0;31mKeyError\u001b[0m: 'the label [Departure datatime] is not in the [index]'"
     ]
    }
   ],
   "source": [
    "get_flights_by_events([0, 1])"
   ]
  },
  {
   "cell_type": "code",
   "execution_count": null,
   "metadata": {
    "collapsed": true
   },
   "outputs": [],
   "source": []
  }
 ],
 "metadata": {
  "kernelspec": {
   "display_name": "Python 3",
   "language": "python",
   "name": "python3"
  },
  "language_info": {
   "codemirror_mode": {
    "name": "ipython",
    "version": 3
   },
   "file_extension": ".py",
   "mimetype": "text/x-python",
   "name": "python",
   "nbconvert_exporter": "python",
   "pygments_lexer": "ipython3",
   "version": "3.5.2+"
  }
 },
 "nbformat": 4,
 "nbformat_minor": 2
}
