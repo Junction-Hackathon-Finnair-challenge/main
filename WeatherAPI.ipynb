{
 "cells": [
  {
   "cell_type": "code",
   "execution_count": 323,
   "metadata": {
    "collapsed": true
   },
   "outputs": [],
   "source": [
    "import pyowm\n",
    "import json\n",
    "import datetime"
   ]
  },
  {
   "cell_type": "code",
   "execution_count": 373,
   "metadata": {},
   "outputs": [],
   "source": [
    "owm = pyowm.OWM('b0d1a20fc96354f3dd44d72bffd9165f')\n",
    "o = owm.three_hours_forecast('Espoo')\n",
    "we = o.get_weather_at(datetime.datetime.strptime('09:00:00 26/11/2017', '%H:%M:%S %d/%m/%Y'))"
   ]
  },
  {
   "cell_type": "code",
   "execution_count": 377,
   "metadata": {},
   "outputs": [
    {
     "ename": "TypeError",
     "evalue": "'dict_values' object does not support indexing",
     "output_type": "error",
     "traceback": [
      "\u001b[0;31m---------------------------------------------------------------------------\u001b[0m",
      "\u001b[0;31mTypeError\u001b[0m                                 Traceback (most recent call last)",
      "\u001b[0;32m<ipython-input-377-1053ecba3d7f>\u001b[0m in \u001b[0;36m<module>\u001b[0;34m()\u001b[0m\n\u001b[0;32m----> 1\u001b[0;31m \u001b[0mwe\u001b[0m\u001b[0;34m.\u001b[0m\u001b[0mget_snow\u001b[0m\u001b[0;34m(\u001b[0m\u001b[0;34m)\u001b[0m\u001b[0;34m.\u001b[0m\u001b[0mvalues\u001b[0m\u001b[0;34m(\u001b[0m\u001b[0;34m)\u001b[0m\u001b[0;34m[\u001b[0m\u001b[0;36m0\u001b[0m\u001b[0;34m]\u001b[0m\u001b[0;34m,\u001b[0m \u001b[0mwe\u001b[0m\u001b[0;34m.\u001b[0m\u001b[0mget_wind\u001b[0m\u001b[0;34m(\u001b[0m\u001b[0;34m)\u001b[0m\u001b[0;34m\u001b[0m\u001b[0m\n\u001b[0m",
      "\u001b[0;31mTypeError\u001b[0m: 'dict_values' object does not support indexing"
     ]
    }
   ],
   "source": [
    "we.get_snow().values()[0], we.get_wind()"
   ]
  },
  {
   "cell_type": "code",
   "execution_count": 357,
   "metadata": {},
   "outputs": [
    {
     "data": {
      "text/plain": [
       "'{\"humidex\": null, \"sunrise_time\": 0, \"snow\": {}, \"dewpoint\": null, \"humidity\": 92, \"pressure\": {\"press\": 1017.37, \"sea_level\": 1038.3}, \"weather_icon_name\": \"04d\", \"reference_time\": 1511686800, \"visibility_distance\": null, \"wind\": {\"speed\": 4.11, \"deg\": 166.501}, \"weather_code\": 803, \"temperature\": {\"temp\": 267.662, \"temp_max\": 267.662, \"temp_kf\": 0, \"temp_min\": 267.662}, \"heat_index\": null, \"status\": \"Clouds\", \"sunset_time\": 0, \"rain\": {}, \"detailed_status\": \"broken clouds\", \"clouds\": 76}'"
      ]
     },
     "execution_count": 357,
     "metadata": {},
     "output_type": "execute_result"
    }
   ],
   "source": [
    "we.to_JSON()"
   ]
  },
  {
   "cell_type": "code",
   "execution_count": 288,
   "metadata": {},
   "outputs": [
    {
     "data": {
      "text/plain": [
       "{'temp': 3.34, 'temp_kf': None, 'temp_max': 4.0, 'temp_min': 3.0}"
      ]
     },
     "execution_count": 288,
     "metadata": {},
     "output_type": "execute_result"
    }
   ],
   "source": [
    "dir(observation.get_weather())\n",
    "observation.get_weather().get_temperature(unit='celsius')"
   ]
  },
  {
   "cell_type": "code",
   "execution_count": 275,
   "metadata": {
    "collapsed": true
   },
   "outputs": [],
   "source": [
    "observation_list = owm.weather_around_coords(-22.57, -43.12)[0].get_weather()"
   ]
  },
  {
   "cell_type": "code",
   "execution_count": 51,
   "metadata": {},
   "outputs": [
    {
     "name": "stdout",
     "output_type": "stream",
     "text": [
      "get_clouds\n",
      "get_detailed_status\n",
      "get_dewpoint\n",
      "get_heat_index\n",
      "get_humidex\n",
      "get_humidity\n",
      "get_pressure\n",
      "get_rain\n",
      "get_reference_time\n",
      "get_snow\n",
      "get_status\n",
      "get_sunrise_time\n",
      "get_sunset_time\n",
      "get_temperature\n",
      "get_visibility_distance\n",
      "get_weather_code\n",
      "get_weather_icon_name\n",
      "get_wind\n",
      "to_JSON\n",
      "to_XML\n"
     ]
    }
   ],
   "source": [
    "def print_methods(obj):\n",
    "    print(\"\\n\".join(list(filter(lambda x: x[0] != '_', dir(obj)))))\n",
    "print_methods(observation_list)"
   ]
  },
  {
   "cell_type": "code",
   "execution_count": 60,
   "metadata": {},
   "outputs": [
    {
     "data": {
      "text/plain": [
       "[<pyowm.webapi25.weather.Weather - reference time=2017-11-25 15:00:00+00, status=Rain>,\n",
       " <pyowm.webapi25.weather.Weather - reference time=2017-11-25 18:00:00+00, status=Rain>,\n",
       " <pyowm.webapi25.weather.Weather - reference time=2017-11-25 21:00:00+00, status=Rain>,\n",
       " <pyowm.webapi25.weather.Weather - reference time=2017-11-26 00:00:00+00, status=Rain>,\n",
       " <pyowm.webapi25.weather.Weather - reference time=2017-11-26 03:00:00+00, status=Rain>,\n",
       " <pyowm.webapi25.weather.Weather - reference time=2017-11-26 06:00:00+00, status=Clouds>,\n",
       " <pyowm.webapi25.weather.Weather - reference time=2017-11-26 09:00:00+00, status=Clouds>,\n",
       " <pyowm.webapi25.weather.Weather - reference time=2017-11-26 12:00:00+00, status=Clear>,\n",
       " <pyowm.webapi25.weather.Weather - reference time=2017-11-26 15:00:00+00, status=Clear>,\n",
       " <pyowm.webapi25.weather.Weather - reference time=2017-11-26 18:00:00+00, status=Clear>,\n",
       " <pyowm.webapi25.weather.Weather - reference time=2017-11-26 21:00:00+00, status=Clear>,\n",
       " <pyowm.webapi25.weather.Weather - reference time=2017-11-27 00:00:00+00, status=Clear>,\n",
       " <pyowm.webapi25.weather.Weather - reference time=2017-11-27 03:00:00+00, status=Clear>,\n",
       " <pyowm.webapi25.weather.Weather - reference time=2017-11-27 06:00:00+00, status=Clear>,\n",
       " <pyowm.webapi25.weather.Weather - reference time=2017-11-27 09:00:00+00, status=Clear>,\n",
       " <pyowm.webapi25.weather.Weather - reference time=2017-11-27 12:00:00+00, status=Clear>,\n",
       " <pyowm.webapi25.weather.Weather - reference time=2017-11-27 15:00:00+00, status=Clear>,\n",
       " <pyowm.webapi25.weather.Weather - reference time=2017-11-27 18:00:00+00, status=Clear>,\n",
       " <pyowm.webapi25.weather.Weather - reference time=2017-11-27 21:00:00+00, status=Clear>,\n",
       " <pyowm.webapi25.weather.Weather - reference time=2017-11-28 00:00:00+00, status=Clear>,\n",
       " <pyowm.webapi25.weather.Weather - reference time=2017-11-28 03:00:00+00, status=Clear>,\n",
       " <pyowm.webapi25.weather.Weather - reference time=2017-11-28 06:00:00+00, status=Clouds>,\n",
       " <pyowm.webapi25.weather.Weather - reference time=2017-11-28 09:00:00+00, status=Clouds>,\n",
       " <pyowm.webapi25.weather.Weather - reference time=2017-11-28 12:00:00+00, status=Rain>,\n",
       " <pyowm.webapi25.weather.Weather - reference time=2017-11-28 15:00:00+00, status=Rain>,\n",
       " <pyowm.webapi25.weather.Weather - reference time=2017-11-28 18:00:00+00, status=Rain>,\n",
       " <pyowm.webapi25.weather.Weather - reference time=2017-11-28 21:00:00+00, status=Rain>,\n",
       " <pyowm.webapi25.weather.Weather - reference time=2017-11-29 00:00:00+00, status=Rain>,\n",
       " <pyowm.webapi25.weather.Weather - reference time=2017-11-29 03:00:00+00, status=Rain>,\n",
       " <pyowm.webapi25.weather.Weather - reference time=2017-11-29 06:00:00+00, status=Rain>,\n",
       " <pyowm.webapi25.weather.Weather - reference time=2017-11-29 09:00:00+00, status=Rain>,\n",
       " <pyowm.webapi25.weather.Weather - reference time=2017-11-29 12:00:00+00, status=Rain>,\n",
       " <pyowm.webapi25.weather.Weather - reference time=2017-11-29 15:00:00+00, status=Rain>,\n",
       " <pyowm.webapi25.weather.Weather - reference time=2017-11-29 18:00:00+00, status=Clear>,\n",
       " <pyowm.webapi25.weather.Weather - reference time=2017-11-29 21:00:00+00, status=Clouds>,\n",
       " <pyowm.webapi25.weather.Weather - reference time=2017-11-30 00:00:00+00, status=Clear>,\n",
       " <pyowm.webapi25.weather.Weather - reference time=2017-11-30 03:00:00+00, status=Clear>,\n",
       " <pyowm.webapi25.weather.Weather - reference time=2017-11-30 06:00:00+00, status=Clear>,\n",
       " <pyowm.webapi25.weather.Weather - reference time=2017-11-30 09:00:00+00, status=Clear>,\n",
       " <pyowm.webapi25.weather.Weather - reference time=2017-11-30 12:00:00+00, status=Clear>]"
      ]
     },
     "execution_count": 60,
     "metadata": {},
     "output_type": "execute_result"
    }
   ],
   "source": [
    "forecast = owm.three_hours_forecast_at_coords(\"Milan,it\")\n",
    "forecast.get_forecast().get_weathers()[]\n",
    "#print_methods(forecast.get_forecast())"
   ]
  },
  {
   "cell_type": "code",
   "execution_count": 70,
   "metadata": {},
   "outputs": [
    {
     "data": {
      "text/plain": [
       "<pyowm.webapi25.cityidregistry.CityIDRegistry - filepath_regex=cityids/%03d-%03d.txt.gz>"
      ]
     },
     "execution_count": 70,
     "metadata": {},
     "output_type": "execute_result"
    }
   ],
   "source": [
    "observation_list = owm.weather_around_coords(-22.57, -43.12)[0].get_weather()\n",
    "owm.city_id_registry()"
   ]
  },
  {
   "cell_type": "code",
   "execution_count": 95,
   "metadata": {
    "collapsed": true
   },
   "outputs": [],
   "source": [
    "df = pd.read_csv(\"airports.csv\")"
   ]
  },
  {
   "cell_type": "code",
   "execution_count": 230,
   "metadata": {
    "collapsed": true
   },
   "outputs": [],
   "source": [
    "import pyowm\n",
    "\n",
    "class WeatherData():\n",
    "    def __init__(self, api_key='b0d1a20fc96354f3dd44d72bffd9165f'):\n",
    "        self.airports = pd.read_csv(\"airports.csv\")\n",
    "        self.owm = pyowm.OWM(api_key)\n",
    "        \n",
    "    def get_coords(self, airport_full=None, airport_icao=None, airport_iata=None):\n",
    "        if not (airport_full or airport_icao or airport_iata):\n",
    "            raise Exception(\"Specify one of the parameters\")\n",
    "        \n",
    "        if airport_full:\n",
    "            lat = self.airports[self.airports['airport_full'] == airport_full].latitude.values[0]\n",
    "            long = self.airports[self.airports['airport_full'] == airport_full].longitude.values[0]\n",
    "        if airport_icao:\n",
    "            lat = self.airports[self.airports['icao'] == airport_icao].latitude.values[0]\n",
    "            long = self.airports[self.airports['icao'] == airport_icao].longitude.values[0]\n",
    "        if airport_iata:\n",
    "            lat = self.airports[self.airports['iata'] == airport_iata].latitude.values[0]\n",
    "            long = self.airports[self.airports['iata'] == airport_iata].longitude.values[0]\n",
    "        return float(lat), float(long)\n",
    "    \n",
    "    def get_current_weather_for_airport(self, airport_full=None, airport_icao=None, airport_iata=None):\n",
    "        lat, long = self.get_coords(airport_full, airport_icao, airport_iata)\n",
    "        return self.owm.weather_at_coords(lat, long)\n",
    "    \n",
    "    def get_three_hours_forecast_weather_for_airport(self, airport_full=None, airport_icao=None, airport_iata=None):\n",
    "        lat, long = self.get_coords(airport_full, airport_icao, airport_iata)\n",
    "        return self.owm.three_hours_forecast_at_coords(lat, long) "
   ]
  },
  {
   "cell_type": "code",
   "execution_count": 303,
   "metadata": {},
   "outputs": [],
   "source": [
    "w = WeatherData()"
   ]
  },
  {
   "cell_type": "code",
   "execution_count": 244,
   "metadata": {
    "collapsed": true
   },
   "outputs": [],
   "source": [
    "t = w.get_current_weather_for_airport(airport_iata=\"HEL\")"
   ]
  },
  {
   "cell_type": "code",
   "execution_count": 297,
   "metadata": {},
   "outputs": [
    {
     "data": {
      "text/plain": [
       "['__class__',\n",
       " '__delattr__',\n",
       " '__dict__',\n",
       " '__dir__',\n",
       " '__doc__',\n",
       " '__eq__',\n",
       " '__format__',\n",
       " '__ge__',\n",
       " '__getattribute__',\n",
       " '__gt__',\n",
       " '__hash__',\n",
       " '__init__',\n",
       " '__le__',\n",
       " '__lt__',\n",
       " '__module__',\n",
       " '__ne__',\n",
       " '__new__',\n",
       " '__reduce__',\n",
       " '__reduce_ex__',\n",
       " '__repr__',\n",
       " '__setattr__',\n",
       " '__sizeof__',\n",
       " '__str__',\n",
       " '__subclasshook__',\n",
       " '__weakref__',\n",
       " '_clouds',\n",
       " '_detailed_status',\n",
       " '_dewpoint',\n",
       " '_heat_index',\n",
       " '_humidex',\n",
       " '_humidity',\n",
       " '_pressure',\n",
       " '_rain',\n",
       " '_reference_time',\n",
       " '_snow',\n",
       " '_status',\n",
       " '_sunrise_time',\n",
       " '_sunset_time',\n",
       " '_temperature',\n",
       " '_to_DOM',\n",
       " '_visibility_distance',\n",
       " '_weather_code',\n",
       " '_weather_icon_name',\n",
       " '_wind',\n",
       " 'get_clouds',\n",
       " 'get_detailed_status',\n",
       " 'get_dewpoint',\n",
       " 'get_heat_index',\n",
       " 'get_humidex',\n",
       " 'get_humidity',\n",
       " 'get_pressure',\n",
       " 'get_rain',\n",
       " 'get_reference_time',\n",
       " 'get_snow',\n",
       " 'get_status',\n",
       " 'get_sunrise_time',\n",
       " 'get_sunset_time',\n",
       " 'get_temperature',\n",
       " 'get_visibility_distance',\n",
       " 'get_weather_code',\n",
       " 'get_weather_icon_name',\n",
       " 'get_wind',\n",
       " 'to_JSON',\n",
       " 'to_XML']"
      ]
     },
     "execution_count": 297,
     "metadata": {},
     "output_type": "execute_result"
    }
   ],
   "source": [
    "dir(t.get_forecast().get_weathers()[0])"
   ]
  },
  {
   "cell_type": "code",
   "execution_count": 248,
   "metadata": {},
   "outputs": [
    {
     "data": {
      "text/plain": [
       "['__class__',\n",
       " '__delattr__',\n",
       " '__dict__',\n",
       " '__dir__',\n",
       " '__doc__',\n",
       " '__eq__',\n",
       " '__format__',\n",
       " '__ge__',\n",
       " '__getattribute__',\n",
       " '__gt__',\n",
       " '__hash__',\n",
       " '__init__',\n",
       " '__iter__',\n",
       " '__le__',\n",
       " '__len__',\n",
       " '__lt__',\n",
       " '__module__',\n",
       " '__ne__',\n",
       " '__new__',\n",
       " '__reduce__',\n",
       " '__reduce_ex__',\n",
       " '__repr__',\n",
       " '__setattr__',\n",
       " '__sizeof__',\n",
       " '__str__',\n",
       " '__subclasshook__',\n",
       " '__weakref__',\n",
       " '_interval',\n",
       " '_location',\n",
       " '_reception_time',\n",
       " '_to_DOM',\n",
       " '_weathers',\n",
       " 'count_weathers',\n",
       " 'get',\n",
       " 'get_interval',\n",
       " 'get_location',\n",
       " 'get_reception_time',\n",
       " 'get_weathers',\n",
       " 'set_interval',\n",
       " 'to_JSON',\n",
       " 'to_XML']"
      ]
     },
     "execution_count": 248,
     "metadata": {},
     "output_type": "execute_result"
    }
   ],
   "source": [
    "dir(t.get_forecast())"
   ]
  },
  {
   "cell_type": "code",
   "execution_count": 305,
   "metadata": {},
   "outputs": [
    {
     "data": {
      "text/plain": [
       "[<pyowm.webapi25.weather.Weather - reference time=2017-11-29 03:00:00+00, status=Snow>,\n",
       " <pyowm.webapi25.weather.Weather - reference time=2017-11-29 06:00:00+00, status=Snow>,\n",
       " <pyowm.webapi25.weather.Weather - reference time=2017-11-29 21:00:00+00, status=Snow>,\n",
       " <pyowm.webapi25.weather.Weather - reference time=2017-11-30 00:00:00+00, status=Snow>,\n",
       " <pyowm.webapi25.weather.Weather - reference time=2017-11-30 03:00:00+00, status=Snow>,\n",
       " <pyowm.webapi25.weather.Weather - reference time=2017-11-30 06:00:00+00, status=Snow>]"
      ]
     },
     "execution_count": 305,
     "metadata": {},
     "output_type": "execute_result"
    }
   ],
   "source": [
    "t.when_snow()"
   ]
  },
  {
   "cell_type": "code",
   "execution_count": null,
   "metadata": {
    "collapsed": true
   },
   "outputs": [],
   "source": []
  }
 ],
 "metadata": {
  "kernelspec": {
   "display_name": "Python 3",
   "language": "python",
   "name": "python3"
  },
  "language_info": {
   "codemirror_mode": {
    "name": "ipython",
    "version": 3
   },
   "file_extension": ".py",
   "mimetype": "text/x-python",
   "name": "python",
   "nbconvert_exporter": "python",
   "pygments_lexer": "ipython3",
   "version": "3.5.2+"
  }
 },
 "nbformat": 4,
 "nbformat_minor": 2
}
