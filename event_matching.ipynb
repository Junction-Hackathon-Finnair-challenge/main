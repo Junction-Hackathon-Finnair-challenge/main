{
 "cells": [
  {
   "cell_type": "code",
   "execution_count": 1,
   "metadata": {
    "collapsed": true
   },
   "outputs": [],
   "source": [
    "# 2. Event matching: geo, time, airport name (save # of tweets to calculate confidence) "
   ]
  },
  {
   "cell_type": "code",
   "execution_count": 2,
   "metadata": {},
   "outputs": [
    {
     "data": {
      "text/plain": [
       "<EVENT_TYPE.LABOUR_STRIKE: 2>"
      ]
     },
     "execution_count": 2,
     "metadata": {},
     "output_type": "execute_result"
    }
   ],
   "source": [
    "from enum import Enum\n",
    "import pandas as pd\n",
    "from math import sin, cos, sqrt, atan2, radians\n",
    "EVENT_TYPE = Enum('EVENT_TYPE', 'TERRORIST_ATTACK LABOUR_STRIKE')\n",
    "\n",
    "EVENT_TYPE.LABOUR_STRIKE"
   ]
  },
  {
   "cell_type": "code",
   "execution_count": 3,
   "metadata": {
    "collapsed": true
   },
   "outputs": [],
   "source": [
    "class Mention:\n",
    "    datetime_happened = None\n",
    "    datetime_reported = None\n",
    "    longitude = None\n",
    "    lattitude = None\n",
    "    type = None\n",
    "    # Please use standard system: SVO, SCO, TSE\n",
    "    airport_id = None\n",
    "    city_name = None\n",
    "    country_name = None\n",
    "    raw_description = None\n",
    "    def __init__(self, type, airport_id, datetime_reported, datetime_happened=None, lattitude=None, longitude=None, city_name=None, country_name=None, raw_description=None):\n",
    "        self.datetime_happened = datetime_happened\n",
    "        self.datetime_reported = datetime_reported\n",
    "        self.longitude = longitude\n",
    "        self.lattitude = lattitude\n",
    "        self.type = type\n",
    "        self.airport_id = airport_id\n",
    "        self.city_name = None if city_name is None else city_name.lower()\n",
    "        self.country_name = None if country_name is None else country_name.lower()\n",
    "        self.raw_description = None"
   ]
  },
  {
   "cell_type": "code",
   "execution_count": 4,
   "metadata": {
    "collapsed": true
   },
   "outputs": [],
   "source": [
    "class Event(Mention):\n",
    "    mentions = []\n",
    "    def __init__(self, m:Mention):\n",
    "        super().__init__(m.type, m.airport_id, m.datetime_reported, m.datetime_happened, m.lattitude, m.longitude, m.city_name, m.country_name, None)\n",
    "        self.mentions.append(m)\n",
    "        \n",
    "    def get_confidence():\n",
    "        pass"
   ]
  },
  {
   "cell_type": "code",
   "execution_count": 5,
   "metadata": {
    "collapsed": true
   },
   "outputs": [],
   "source": [
    "airport_db = pd.read_csv('airports.csv')"
   ]
  },
  {
   "cell_type": "code",
   "execution_count": 6,
   "metadata": {},
   "outputs": [
    {
     "data": {
      "text/html": [
       "<div>\n",
       "<style>\n",
       "    .dataframe thead tr:only-child th {\n",
       "        text-align: right;\n",
       "    }\n",
       "\n",
       "    .dataframe thead th {\n",
       "        text-align: left;\n",
       "    }\n",
       "\n",
       "    .dataframe tbody tr th {\n",
       "        vertical-align: top;\n",
       "    }\n",
       "</style>\n",
       "<table border=\"1\" class=\"dataframe\">\n",
       "  <thead>\n",
       "    <tr style=\"text-align: right;\">\n",
       "      <th></th>\n",
       "      <th>airport_full</th>\n",
       "      <th>city</th>\n",
       "      <th>country</th>\n",
       "      <th>iata</th>\n",
       "      <th>icao</th>\n",
       "      <th>latitude</th>\n",
       "      <th>longitude</th>\n",
       "    </tr>\n",
       "  </thead>\n",
       "  <tbody>\n",
       "    <tr>\n",
       "      <th>0</th>\n",
       "      <td>Goroka Airport</td>\n",
       "      <td>Goroka</td>\n",
       "      <td>Papua New Guinea</td>\n",
       "      <td>GKA</td>\n",
       "      <td>AYGA</td>\n",
       "      <td>-6.081690</td>\n",
       "      <td>145.391998</td>\n",
       "    </tr>\n",
       "    <tr>\n",
       "      <th>1</th>\n",
       "      <td>Madang Airport</td>\n",
       "      <td>Madang</td>\n",
       "      <td>Papua New Guinea</td>\n",
       "      <td>MAG</td>\n",
       "      <td>AYMD</td>\n",
       "      <td>-5.207080</td>\n",
       "      <td>145.789001</td>\n",
       "    </tr>\n",
       "    <tr>\n",
       "      <th>2</th>\n",
       "      <td>Mount Hagen Kagamuga Airport</td>\n",
       "      <td>Mount Hagen</td>\n",
       "      <td>Papua New Guinea</td>\n",
       "      <td>HGU</td>\n",
       "      <td>AYMH</td>\n",
       "      <td>-5.826790</td>\n",
       "      <td>144.296005</td>\n",
       "    </tr>\n",
       "    <tr>\n",
       "      <th>3</th>\n",
       "      <td>Nadzab Airport</td>\n",
       "      <td>Nadzab</td>\n",
       "      <td>Papua New Guinea</td>\n",
       "      <td>LAE</td>\n",
       "      <td>AYNZ</td>\n",
       "      <td>-6.569803</td>\n",
       "      <td>146.725977</td>\n",
       "    </tr>\n",
       "    <tr>\n",
       "      <th>4</th>\n",
       "      <td>Port Moresby Jacksons International Airport</td>\n",
       "      <td>Port Moresby</td>\n",
       "      <td>Papua New Guinea</td>\n",
       "      <td>POM</td>\n",
       "      <td>AYPY</td>\n",
       "      <td>-9.443380</td>\n",
       "      <td>147.220001</td>\n",
       "    </tr>\n",
       "  </tbody>\n",
       "</table>\n",
       "</div>"
      ],
      "text/plain": [
       "                                  airport_full          city  \\\n",
       "0                               Goroka Airport        Goroka   \n",
       "1                               Madang Airport        Madang   \n",
       "2                 Mount Hagen Kagamuga Airport   Mount Hagen   \n",
       "3                               Nadzab Airport        Nadzab   \n",
       "4  Port Moresby Jacksons International Airport  Port Moresby   \n",
       "\n",
       "            country iata  icao  latitude   longitude  \n",
       "0  Papua New Guinea  GKA  AYGA -6.081690  145.391998  \n",
       "1  Papua New Guinea  MAG  AYMD -5.207080  145.789001  \n",
       "2  Papua New Guinea  HGU  AYMH -5.826790  144.296005  \n",
       "3  Papua New Guinea  LAE  AYNZ -6.569803  146.725977  \n",
       "4  Papua New Guinea  POM  AYPY -9.443380  147.220001  "
      ]
     },
     "execution_count": 6,
     "metadata": {},
     "output_type": "execute_result"
    }
   ],
   "source": [
    "airport_db.head()"
   ]
  },
  {
   "cell_type": "code",
   "execution_count": 7,
   "metadata": {
    "collapsed": true
   },
   "outputs": [],
   "source": [
    "airport_db[\"city\"] = airport_db[\"city\"].str.lower()\n",
    "airport_db[\"country\"] = airport_db[\"country\"].str.lower()"
   ]
  },
  {
   "cell_type": "code",
   "execution_count": 76,
   "metadata": {
    "scrolled": true
   },
   "outputs": [],
   "source": [
    "# How many cities have only one airport?\n",
    "airport_names = {a[0]:(str(a[1]['city']) + ' ' + str(a[1]['country'])) for a in airport_db.iterrows()}\n",
    "airport_names_rev = {airport_names[a]:a for a in airport_names.keys()}\n",
    "airport_freq =  pd.DataFrame(list(airport_names.values()), index=list(airport_names.keys()))[0].value_counts()\n",
    "one_airport_cities_i = [airport_names_rev[a] for a in airport_freq.keys() if airport_freq[a] == 1]"
   ]
  },
  {
   "cell_type": "code",
   "execution_count": 10,
   "metadata": {
    "collapsed": true
   },
   "outputs": [],
   "source": [
    "# How many unique cities?\n",
    "airport_city_freq =  airport_db['city'].value_counts()\n",
    "city_one_airport_names = [a for a in airport_city_freq.keys() if airport_city_freq[a] == 1]"
   ]
  },
  {
   "cell_type": "code",
   "execution_count": 11,
   "metadata": {
    "collapsed": true
   },
   "outputs": [],
   "source": [
    "def geo_to_airport(lat, lon):\n",
    "    distance_epsilon = 10 # km\n",
    "    lat = radians(lat)\n",
    "    lon = radians(lon)\n",
    "    for airport in airport_db.iterrows():\n",
    "        airport = airport[1]\n",
    "        lat2 = radians(airport['latitude'])\n",
    "        lon2 = radians(airport['longitude'])\n",
    "        dlon = lon2 - lon\n",
    "        dlat = lat2 - lat\n",
    "        a = sin(dlat / 2)**2 + cos(lat) * cos(lat2) * sin(dlon / 2)**2\n",
    "        c = 2 * atan2(sqrt(a), sqrt(1 - a))\n",
    "        # Approximate earth radius is 6373.0\n",
    "        distance = 6373.0 * c\n",
    "        if distance < distance_epsilon:\n",
    "            return airport.iata\n",
    "    return None"
   ]
  },
  {
   "cell_type": "code",
   "execution_count": 12,
   "metadata": {
    "collapsed": true
   },
   "outputs": [],
   "source": [
    "def fill_missing_data(mention:Mention):\n",
    "    if mention.datetime_happened is None:\n",
    "        mention.datetime_happened = mention.datetime_reported\n",
    "    if mention.airport_id is None:\n",
    "        if mention.lattitude is not None and mention.longitude is not None:\n",
    "            #Reverse geocodes\n",
    "            mention.airport_id = geo_to_airport(mention.lattitude, mention.longitude)\n",
    "        if mention.airport_id is None and mention.city_name is not None and mention.country_name is not None:\n",
    "            if airport_names[mention.city_name + ' ' + mention.country_name] in one_airport_cities_i:\n",
    "                # One airport in the city\n",
    "                mention.airport_id = airport_db.loc[airport_names[mention.city_name + ' ' + mention.country_name]].iata\n",
    "        \n",
    "        if mention.airport_id is None and mention.city_name is not None and mention.city_name in city_one_airport_names:\n",
    "            mention.airport_id = airport_db.loc[airport_db[airport_db['city'] == mention.city_name].index[0]].iata\n",
    "            print(mention.airport_id)\n",
    "    return mention"
   ]
  },
  {
   "cell_type": "code",
   "execution_count": 13,
   "metadata": {
    "collapsed": true
   },
   "outputs": [],
   "source": [
    "class Flights:\n",
    "    events = []\n",
    "    def add_event(self, mention:Mention):\n",
    "        if mention.longitude is None and mention.lattitude is None and mention.airport_id is None and mention.city_name is None and mention.country_name is None:\n",
    "            print(\"Not enough data in Mention! Not considering this.\")\n",
    "            return\n",
    "        \n",
    "        mention = fill_missing_data(mention)\n",
    "        if len(self.events) == 0:\n",
    "            print(\"Adding a new event_\")\n",
    "            self.events.append(Event(mention))\n",
    "            return\n",
    "        \n",
    "        # Merge with some event\n",
    "        TIME_EPSILON_SECONDS = 24*60*60\n",
    "        \n",
    "        similar_events = list(filter(\n",
    "            lambda e: e.type == mention.type and\n",
    "                (((e.airport_id is not None and \n",
    "                   mention.airport_id is not None and \n",
    "                   e.airport_id == mention.airport_id) or \n",
    "                (e.city_name is not None and \n",
    "                 mention.city_name is not None and\n",
    "                 e.country_name is not None and mention.country_name is not None and\n",
    "                 e.city_name == mention.city_name and e.country_name == mention.country_name)) and \n",
    "                abs(e.datetime_happened - mention.datetime_happened) < TIME_EPSILON_SECONDS), self.events))\n",
    "        print(\"Found %d similar events\" % len(similar_events))\n",
    "        \n",
    "        if len(similar_events) == 0:\n",
    "            print(\"Adding a new event\")\n",
    "            self.events.append(Event(mention))\n",
    "            return\n",
    "        if len(similar_events) == 1:\n",
    "            print(\"Merging with one similar event\")\n",
    "            similar_events[0].mentions.append(mention)\n",
    "            return\n",
    "        \n",
    "        # weight similar events\n",
    "        weights = [0 for _ in range(len(similar_events))]\n",
    "        for i in range(len(similar_events)):\n",
    "            e = similar_events[i]\n",
    "            w = 0\n",
    "            if e.airport_id == mention.airport_id:\n",
    "                w += 1\n",
    "            if e.city_name == mention.city_name and e.country_name == mention.country_name:\n",
    "                w += 0.5\n",
    "            \n",
    "            w += 1/(10*abs(e.datetime_happened - mention.datetime_happened))\n",
    "            weights[i] = w\n",
    "        max_w = max(weights)\n",
    "        indexes = [i for i, x in enumerate(weights) if x == max_w]\n",
    "        if len(indexes) > 1:\n",
    "            print(\"Warning, there are %d similar events for merging, selecting the first one\" % len(indexes))\n",
    "        \n",
    "        similar_events[indexes[0]].mentions.append(mention)\n",
    "        similar_events[indexes[0]].datetime_happened = sum([m.datetime_happened for m in similar_events[indexes[0]].mentions]) / float(len(l))\n",
    "        print(\"Merged\")"
   ]
  },
  {
   "cell_type": "code",
   "execution_count": 14,
   "metadata": {
    "scrolled": true
   },
   "outputs": [
    {
     "name": "stdout",
     "output_type": "stream",
     "text": [
      "=======\n",
      "Adding a new event_\n",
      "Total events: 1\n",
      "=======\n",
      "Found 0 similar events\n",
      "Adding a new event\n",
      "Total events: 2\n",
      "=======\n",
      "Found 0 similar events\n",
      "Adding a new event\n",
      "Total events: 3\n",
      "=======\n",
      "Found 1 similar events\n",
      "Merging with one similar event\n",
      "Total events: 3\n",
      "=======\n",
      "Found 0 similar events\n",
      "Adding a new event\n",
      "Total events: 4\n",
      "=======\n",
      "Found 1 similar events\n",
      "Merging with one similar event\n",
      "Total events: 4\n",
      "=======\n",
      "SCO\n",
      "Found 1 similar events\n",
      "Merging with one similar event\n",
      "Total events: 4\n"
     ]
    }
   ],
   "source": [
    "def test():\n",
    "    f = Flights()\n",
    "    mentions = [\n",
    "                # This event is added as an initial one\n",
    "                Mention(EVENT_TYPE.TERRORIST_ATTACK, 'SCO', 1511616649+23*60+60),\n",
    "                # Another event that is not merged\n",
    "                Mention(EVENT_TYPE.TERRORIST_ATTACK, 'TSE', 1511616609+5*60),\n",
    "                # Time shift is OK, but type is different\n",
    "                Mention(EVENT_TYPE.LABOUR_STRIKE, 'SCO', 1511616669+5*60),\n",
    "                # No airport id provided\n",
    "                Mention(EVENT_TYPE.TERRORIST_ATTACK, None, 1511616669 , None, 43.856578, 51.086457),\n",
    "                # Too late tweet, no merge\n",
    "                Mention(EVENT_TYPE.TERRORIST_ATTACK, 'SCO', 1511919749+23*60+60),\n",
    "                # No geo, but city and contry are specified\n",
    "                Mention(EVENT_TYPE.TERRORIST_ATTACK, None, 1511919749+23*60+60, city_name='Aktau', country_name='Kazakhstan'),\n",
    "                # Only city provided!\n",
    "                Mention(EVENT_TYPE.TERRORIST_ATTACK, None, 1511919749+23*60+60, city_name='Aktau'),]\n",
    "    for m in mentions:\n",
    "        print(\"=======\")\n",
    "        f.add_event(m)\n",
    "        print(\"Total events:\", len(f.events))\n",
    "test()"
   ]
  },
  {
   "cell_type": "code",
   "execution_count": 67,
   "metadata": {},
   "outputs": [
    {
     "data": {
      "text/plain": [
       "'HEM'"
      ]
     },
     "execution_count": 67,
     "metadata": {},
     "output_type": "execute_result"
    }
   ],
   "source": [
    "geo_to_airport(60.2979109, 25.0196232)"
   ]
  },
  {
   "cell_type": "code",
   "execution_count": null,
   "metadata": {
    "collapsed": true
   },
   "outputs": [],
   "source": []
  },
  {
   "cell_type": "code",
   "execution_count": null,
   "metadata": {
    "collapsed": true
   },
   "outputs": [],
   "source": []
  },
  {
   "cell_type": "code",
   "execution_count": null,
   "metadata": {
    "collapsed": true
   },
   "outputs": [],
   "source": []
  }
 ],
 "metadata": {
  "kernelspec": {
   "display_name": "Python 3",
   "language": "python",
   "name": "python3"
  },
  "language_info": {
   "codemirror_mode": {
    "name": "ipython",
    "version": 3
   },
   "file_extension": ".py",
   "mimetype": "text/x-python",
   "name": "python",
   "nbconvert_exporter": "python",
   "pygments_lexer": "ipython3",
   "version": "3.5.2+"
  }
 },
 "nbformat": 4,
 "nbformat_minor": 2
}
